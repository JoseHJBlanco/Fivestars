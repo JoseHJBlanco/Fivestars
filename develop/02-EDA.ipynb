{
 "cells": [
  {
   "cell_type": "markdown",
   "metadata": {},
   "source": [
    "# Exploratory Data Analysis\n",
    "---\n",
    "In this notebook I will investigate the data looking for possible problems, class balance and interesting correlations.\n",
    "\n",
    "### Table of contents\n",
    "- [Setup](#setup)"
   ]
  },
  {
   "cell_type": "markdown",
   "metadata": {},
   "source": [
    "## Setup <a name='setup'></a>"
   ]
  },
  {
   "cell_type": "code",
   "execution_count": 1,
   "metadata": {},
   "outputs": [],
   "source": [
    "import seaborn as sns\n",
    "import matplotlib.pyplot as plt\n",
    "import pyspark as ps\n",
    "import pyspark.sql.functions as psf\n",
    "\n",
    "%matplotlib inline\n",
    "%config InlineBackend.figure_format='retina'\n",
    "\n",
    "plt.rcParams['figure.figsize'] = (10, 5)\n",
    "sns.set(font_scale=1.2)\n",
    "sns.set_style('whitegrid')"
   ]
  },
  {
   "cell_type": "code",
   "execution_count": 2,
   "metadata": {},
   "outputs": [],
   "source": [
    "spark = ps.sql.SparkSession.builder\\\n",
    "                            .master('local[4]')\\\n",
    "                            .appName('eda')\\\n",
    "                            .getOrCreate()"
   ]
  },
  {
   "cell_type": "markdown",
   "metadata": {},
   "source": [
    "## Class balance"
   ]
  },
  {
   "cell_type": "markdown",
   "metadata": {},
   "source": [
    "Since we are framing the our problem as a sentiment classification problem, understanding the distribution of a classes is fundamental for the model's success.\n",
    "\n",
    "Before, starting with any analysis I will load the data and create a temporary view."
   ]
  },
  {
   "cell_type": "code",
   "execution_count": 3,
   "metadata": {},
   "outputs": [],
   "source": [
    "amazon = spark.read.parquet('../data/amazon.parquet')"
   ]
  },
  {
   "cell_type": "code",
   "execution_count": 4,
   "metadata": {},
   "outputs": [],
   "source": [
    "amazon.createOrReplaceTempView('amazon')"
   ]
  },
  {
   "cell_type": "markdown",
   "metadata": {},
   "source": [
    "One of the most advantages of using PySpark is the flexibility that comes with it in term of querying. PySpark's data frame abstraction allows the freely alternate between declarative and imperative querying paradigms."
   ]
  },
  {
   "cell_type": "code",
   "execution_count": 29,
   "metadata": {},
   "outputs": [
    {
     "name": "stdout",
     "output_type": "stream",
     "text": [
      "+----------+-------+--------------------+-------------+\n",
      "|      asin|overall|             summary|positiveVotes|\n",
      "+----------+-------+--------------------+-------------+\n",
      "|0006353282|      5|        An easy read|            0|\n",
      "|0006353282|      4|Interesting pictu...|            0|\n",
      "|0006353282|      4|An engaging memoi...|            4|\n",
      "|0006353282|      5|An Autobiography,...|            0|\n",
      "|0006353282|      4|\"Instead  I went ...|            3|\n",
      "|0006353282|      4|Personally and cu...|            0|\n",
      "|0006353282|      4|There are really ...|           26|\n",
      "|0006353282|      5|enjoyable read!wh...|           43|\n",
      "|0006353282|      3|An unexpected lif...|            0|\n",
      "|0006353282|      5|Great life story ...|            4|\n",
      "|0006353282|      5|    My Favorite Book|           15|\n",
      "|0006353282|      5|What a lady! That...|            1|\n",
      "|0006353282|      5|Welcome to the wo...|            1|\n",
      "|0006353282|      5|    A Very Good Read|            0|\n",
      "|0006353282|      5|wonderful look at...|            9|\n",
      "|0006353282|      5|   Loving this book.|            0|\n",
      "|0006353282|      5|           Loved it!|            0|\n",
      "|0006353282|      5|Agatha Christie: ...|            0|\n",
      "|0006353282|      5|She Was a Master ...|            0|\n",
      "|0006353282|      5|One of my favorit...|           31|\n",
      "|0006353282|      5|This lady could w...|            0|\n",
      "|0006353282|      5|       Unputdownable|            0|\n",
      "|0006353282|      2|A Review of the F...|           19|\n",
      "|0006353282|      4|If you love Agath...|            4|\n",
      "|0006353282|      5|       Cannot review|            1|\n",
      "|0006353282|      5|     for the curious|            0|\n",
      "|0006353282|      5|Great Autobiograp...|            0|\n",
      "|0006353282|      5|      Mystery solved|           58|\n",
      "|0006353282|      5|         Great book!|            0|\n",
      "|0006353282|      5|Life is very plea...|            0|\n",
      "|0006353282|      5|Another classic b...|            0|\n",
      "|0006353282|      3|  Interesting Enough|            0|\n",
      "|0006353282|      4| A Master of Mystery|            1|\n",
      "|0006353282|      2|Not a very honest...|           20|\n",
      "|0006353282|      5|A new edition of ...|            0|\n",
      "|0006353282|      3|The Kindle versio...|            6|\n",
      "|0006353282|      5|The Master of Mys...|            5|\n",
      "|0006353282|      5|Agatha Christie, ...|            0|\n",
      "|0006353282|      5|    Fascinating read|            0|\n",
      "|0006353282|      3|      REALLY AGATHA!|            0|\n",
      "|0006353282|      4|A very pleasant a...|            1|\n",
      "|0006353282|      5|Best read ever......|            1|\n",
      "|0006353282|      3|A good convention...|            0|\n",
      "|0006353282|      5|    an autobiography|            0|\n",
      "|0006353282|      5|Lives of interest...|            0|\n",
      "|0006353282|      5|One of the most e...|            6|\n",
      "|0007116055|      4|           4.5 stars|            0|\n",
      "|0007116055|      3|It might make a g...|            0|\n",
      "|0007116055|      4|Hotted up towards...|            5|\n",
      "|0007116055|      5|           Bewitched|            0|\n",
      "|0007116055|      5|Read it! You won'...|            1|\n",
      "|0007116055|      5|a fable of good a...|            8|\n",
      "|0007116055|      2|Good, Evil, Good,...|            1|\n",
      "|0007116055|      4|    Evil verses Good|            0|\n",
      "|0007116055|      2|great idea!! terr...|            1|\n",
      "|0007116055|      4| The Power of Choice|            0|\n",
      "|0007116055|      1|The Devil Is In T...|            3|\n",
      "|0007116055|      5|THOUGHT PROVOKING...|            3|\n",
      "|0007116055|      5|      Humble Opinion|            0|\n",
      "|0007116055|      5|A deal with the D...|            0|\n",
      "|0007116055|      5|     Wonderful story|            0|\n",
      "|0007116055|      4|Wait for the pape...|            9|\n",
      "|0007116055|      3|Down-to-earth and...|            1|\n",
      "|0007116055|      5|     Great Condition|            0|\n",
      "|0007116055|      2|Mark Twain does i...|            0|\n",
      "|0007116055|      4|          Great read|            0|\n",
      "|0007116055|      4|What would you do...|            1|\n",
      "|0007116055|      3|Big build-up but ...|            1|\n",
      "|0007116055|      5|Would you murder ...|            1|\n",
      "|0007116055|      5|The Devil and Mis...|            0|\n",
      "|0007116055|      5|         Great read!|            1|\n",
      "|0007116055|      4|    Modern day fable|            1|\n",
      "|0007116055|      5|      Coehlo journey|            1|\n",
      "|0007116055|      5|Morality at its F...|            0|\n",
      "|0007116055|      4|A simply delivere...|            6|\n",
      "|0007116055|      4|   am i good or evil|            4|\n",
      "|0007116055|      1|      Not for me....|            1|\n",
      "|0007116055|      3|            Just OK.|           25|\n",
      "|0007116055|      5|One of my favouri...|            0|\n",
      "|0007116055|      4|The Devil and Mis...|            0|\n",
      "|0007116055|      5|A story old as ti...|           21|\n",
      "|0007116055|      4|       Good vs. Evil|            2|\n",
      "|0007116055|      4|IT'S ALL ABOUT CH...|            2|\n",
      "|0007116055|      4|          nice novel|            2|\n",
      "|0007116055|      3|Five stars if not...|            1|\n",
      "|0007116055|      5|     Fantastic book!|            4|\n",
      "|0007116055|      4|      Inspiring read|            0|\n",
      "|0007116055|      3|Puzzled by the pr...|            5|\n",
      "|0007116055|      5|           Loved it!|            0|\n",
      "|0007116055|      1|       Fake, shallow|           28|\n",
      "|0007116055|      5|I can't get enoug...|            0|\n",
      "|0007116055|      4|Entertaining but ...|            0|\n",
      "|0007250886|      5|daniel knox by wi...|            0|\n",
      "|0007250886|      3|       A page turner|            1|\n",
      "|0007250886|      5|          Great Fun!|           17|\n",
      "|0007250886|      4|  A good page turner|            0|\n",
      "|0007250886|      2|And the surprisin...|            0|\n",
      "|0007250886|      4|           good book|           34|\n",
      "|0007250886|      1|Weak characteriza...|            1|\n",
      "|0007250886|      4|       good thriller|            0|\n",
      "+----------+-------+--------------------+-------------+\n",
      "\n"
     ]
    }
   ],
   "source": [
    "query = spark.sql('''\n",
    "    SELECT asin, overall, summary, positiveVotes, \n",
    "    FROM amazon\n",
    "    LIMIT 100\n",
    "''').show(100)"
   ]
  },
  {
   "cell_type": "code",
   "execution_count": null,
   "metadata": {},
   "outputs": [],
   "source": []
  }
 ],
 "metadata": {
  "kernelspec": {
   "display_name": "Python 3",
   "language": "python",
   "name": "python3"
  },
  "language_info": {
   "codemirror_mode": {
    "name": "ipython",
    "version": 3
   },
   "file_extension": ".py",
   "mimetype": "text/x-python",
   "name": "python",
   "nbconvert_exporter": "python",
   "pygments_lexer": "ipython3",
   "version": "3.7.0"
  }
 },
 "nbformat": 4,
 "nbformat_minor": 2
}
